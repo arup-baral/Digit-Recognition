{
 "cells": [
  {
   "cell_type": "code",
   "execution_count": 1,
   "id": "641d1804",
   "metadata": {},
   "outputs": [],
   "source": [
    "import numpy as np\n",
    "import matplotlib.pyplot as plt\n",
    "import time"
   ]
  },
  {
   "cell_type": "code",
   "execution_count": 2,
   "id": "b5930ad4",
   "metadata": {},
   "outputs": [],
   "source": [
    "import tensorflow as tf\n",
    "from tensorflow.keras.datasets import mnist"
   ]
  },
  {
   "cell_type": "code",
   "execution_count": 3,
   "id": "175da9fe",
   "metadata": {},
   "outputs": [],
   "source": [
    "(X_train, y_train), (X_test, y_test) = mnist.load_data()"
   ]
  },
  {
   "cell_type": "code",
   "execution_count": 4,
   "id": "475a231f",
   "metadata": {},
   "outputs": [
    {
     "name": "stdout",
     "output_type": "stream",
     "text": [
      "Shape of X_train:  (60000, 28, 28)\n",
      "Shape of y_train:  (60000,)\n",
      "Shape of X_test:  (10000, 28, 28)\n",
      "Shape of y_test:  (10000,)\n"
     ]
    }
   ],
   "source": [
    "print('Shape of X_train: ', X_train.shape)\n",
    "print('Shape of y_train: ', y_train.shape)\n",
    "print('Shape of X_test: ', X_test.shape)\n",
    "print('Shape of y_test: ', y_test.shape)"
   ]
  },
  {
   "cell_type": "code",
   "execution_count": 5,
   "id": "6e052b2f",
   "metadata": {},
   "outputs": [
    {
     "data": {
      "image/png": "[encoded data removed]",
      "text/plain": [
       "<Figure size 432x288 with 1 Axes>"
      ]
     },
     "metadata": {
      "needs_background": "light"
     },
     "output_type": "display_data"
    },
    {
     "data": {
      "text/plain": [
       "3"
      ]
     },
     "execution_count": 5,
     "metadata": {},
     "output_type": "execute_result"
    }
   ],
   "source": [
    "plt.imshow(X_train[12])\n",
    "plt.show()\n",
    "y_train[12]"
   ]
  },
  {
   "cell_type": "code",
   "execution_count": 6,
   "id": "03020a93",
   "metadata": {},
   "outputs": [],
   "source": [
    "class Network:\n",
    "    \n",
    "    # initialization of neural network\n",
    "    def __init__(self, layers, alpha, epochs):\n",
    "        self.layers = layers\n",
    "        self.alpha = alpha\n",
    "        self.epochs = epochs\n",
    "        \n",
    "        input_layer = layers[0]\n",
    "        hidden_layer1 = layers[1]\n",
    "        hidden_layer2 = layers[2]\n",
    "        output_layer = layers[3]\n",
    "        \n",
    "        self.params = {\n",
    "            'w1':np.random.randn(hidden_layer1, input_layer) * np.sqrt(1./hidden_layer1),\n",
    "            'w2':np.random.randn(hidden_layer2, hidden_layer1) * np.sqrt(1./hidden_layer2),\n",
    "            'w3':np.random.randn(output_layer, hidden_layer2) * np.sqrt(1./output_layer)\n",
    "        }\n",
    "    \n",
    "    # implementation of forward-propagation algorithm\n",
    "    def forward_propagation(self, x_train):\n",
    "        #params = self.params\n",
    "        \n",
    "        self.params['a0'] = x_train\n",
    "        \n",
    "        # First Hideen Layer\n",
    "        self.params['z1'] = np.dot(self.params['w1'], x_train)\n",
    "        self.params['a1'] = self.sigmoid(self.params['z1'])\n",
    "        \n",
    "        # Second Hidden Layer\n",
    "        self.params['z2'] = np.dot(self.params['w2'], params['a1'])\n",
    "        self.params['a2'] = self.sigmoid(self.params['z2'])\n",
    "        \n",
    "        # Output Layer\n",
    "        self.params['z3'] = np.dot(self.params['w3'], params['a2'])\n",
    "        self.params['a3'] = self.softmax(self.params['z3'])\n",
    "        \n",
    "        return self.params['a3']\n",
    "    \n",
    "    # implementation of back-propagation algorithm\n",
    "    def back_propagation(self, y_train, y_hat):\n",
    "        #params = self.params\n",
    "        \n",
    "        # Change in W3 matrix\n",
    "        error = (2 / y_hat.shape[0]) * (y_hat - y_train) * self.softmax(self.params['z3'], derivative=True)\n",
    "        delta_w = np.outer(error, self.params['a2'])\n",
    "        self.params['w3'] = self.params['w3'] - (self.alpha*delta_w) \n",
    "        \n",
    "        # Change in W2 matrix\n",
    "        error = np.dot(self.params['w3'].T, error) * self.sigmoid(self.params['z2'], derivative=True)\n",
    "        delta_w = np.outer(error, self.params['a1'])\n",
    "        self.params['w2'] = self.params['w2'] - (self.alpha*delta_w)\n",
    "        \n",
    "        # Change in W1 matrix\n",
    "        error = np.dot(self.params['w2'].T, error) * self.sigmoid(self.params['z1'], derivative=True)\n",
    "        delta_w = np.outer(error, self.params['a0'])\n",
    "        self.params['w1'] = self.params['w1'] - (self.alpha*delta_w)\n",
    "    \n",
    "    # sigmoid function\n",
    "    def sigmoid(self, z, derivative = False):\n",
    "        if derivative:\n",
    "            return np.exp(z)/((1 + np.exp(z))**2)\n",
    "        \n",
    "        return 1/(1 + np.exp(-z))\n",
    "        \n",
    "    # softmax function\n",
    "    def softmax(self, z, derivative = False):\n",
    "        exp = np.exp(z - z.max())\n",
    "        if derivative:\n",
    "            return (exp/np.sum(exp, axis=0)) * (1 - (exp/np.sum(exp, axis=0)))\n",
    "        \n",
    "        return exp/np.sum(exp, axis=0)\n",
    "    \n",
    "    # training the network (1 epoch)\n",
    "    def train_util(self, x_train, y_train):\n",
    "        for x,y in zip(x_train,y_train):\n",
    "            x = np.asfarray(x.reshape((784,1)))\n",
    "            x = ((x / 255.0) * 0.99) + 0.01\n",
    "            output = np.zeros(10, dtype=int) + 0.01\n",
    "            output[int(y)] = 0.99\n",
    "            output = output.reshape((10,1))\n",
    "            prediction = self.forward_propagation(x)\n",
    "            self.back_propagation(output, prediction)\n",
    "            \n",
    "    def train(self, x_train, y_train):\n",
    "        for i in range(self.epochs):\n",
    "            start = time.time()\n",
    "            self.train_util(x_train, y_train)\n",
    "            acc = self.accuracy(x_train, y_train)\n",
    "            print('Epoch->',i,'---------------','time->',time.time()-start,'---------------','Accuracy->',round(acc*100, 2),'%')\n",
    "            \n",
    "    # computing accuracy\n",
    "    def accuracy(self, X, Y):\n",
    "        pred = []\n",
    "        for x,y in zip(X,Y):\n",
    "            x = np.asfarray(x.reshape((784,1)))\n",
    "            x = ((x / 255.0) * 0.99) + 0.01\n",
    "            output = np.zeros(10, dtype=int) + 0.01\n",
    "            output[int(y)] = 0.99\n",
    "            output = output.reshape((10,1))\n",
    "            prediction = self.forward_propagation(x)\n",
    "            pred.append(np.argmax(output) == np.argmax(prediction))\n",
    "        return np.mean(pred)"
   ]
  },
  {
   "cell_type": "code",
   "execution_count": 12,
   "id": "164fc991",
   "metadata": {},
   "outputs": [],
   "source": [
    "dnn = Network(layers=[784,128,64,10], alpha=0.001, epochs=5)"
   ]
  },
  {
   "cell_type": "code",
   "execution_count": 13,
   "id": "1aa67d6d",
   "metadata": {},
   "outputs": [
    {
     "name": "stdout",
     "output_type": "stream",
     "text": [
      "Epoch-> 0 time-> 47.36786699295044 -------------------------- Accuracy-> 18.095 %\n",
      "Epoch-> 1 time-> 47.26355481147766 -------------------------- Accuracy-> 26.99666666666667 %\n",
      "Epoch-> 2 time-> 47.156004667282104 -------------------------- Accuracy-> 32.013333333333335 %\n",
      "Epoch-> 3 time-> 47.3720977306366 -------------------------- Accuracy-> 34.83166666666666 %\n",
      "Epoch-> 4 time-> 47.18640971183777 -------------------------- Accuracy-> 36.645 %\n"
     ]
    }
   ],
   "source": [
    "dnn.train(X_train, y_train)"
   ]
  }
 ],
 "metadata": {
  "kernelspec": {
   "display_name": "Python 3 (ipykernel)",
   "language": "python",
   "name": "python3"
  },
  "language_info": {
   "codemirror_mode": {
    "name": "ipython",
    "version": 3
   },
   "file_extension": ".py",
   "mimetype": "text/x-python",
   "name": "python",
   "nbconvert_exporter": "python",
   "pygments_lexer": "ipython3",
   "version": "3.9.1"
  }
 },
 "nbformat": 4,
 "nbformat_minor": 5
}
