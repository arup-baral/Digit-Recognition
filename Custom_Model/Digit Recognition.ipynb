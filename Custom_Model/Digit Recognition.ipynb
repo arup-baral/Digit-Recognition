{
 "cells": [
  {
   "cell_type": "code",
   "execution_count": 38,
   "id": "641d1804",
   "metadata": {},
   "outputs": [],
   "source": [
    "import numpy as np\n",
    "import matplotlib.pyplot as plt\n",
    "import time\n",
    "import seaborn as sns"
   ]
  },
  {
   "cell_type": "code",
   "execution_count": 2,
   "id": "b5930ad4",
   "metadata": {},
   "outputs": [],
   "source": [
    "import tensorflow as tf\n",
    "from tensorflow.keras.datasets import mnist"
   ]
  },
  {
   "cell_type": "code",
   "execution_count": 3,
   "id": "175da9fe",
   "metadata": {},
   "outputs": [],
   "source": [
    "(X_train, y_train), (X_test, y_test) = mnist.load_data()"
   ]
  },
  {
   "cell_type": "code",
   "execution_count": 4,
   "id": "475a231f",
   "metadata": {},
   "outputs": [
    {
     "name": "stdout",
     "output_type": "stream",
     "text": [
      "Shape of X_train:  (60000, 28, 28)\n",
      "Shape of y_train:  (60000,)\n",
      "Shape of X_test:  (10000, 28, 28)\n",
      "Shape of y_test:  (10000,)\n"
     ]
    }
   ],
   "source": [
    "print('Shape of X_train: ', X_train.shape)\n",
    "print('Shape of y_train: ', y_train.shape)\n",
    "print('Shape of X_test: ', X_test.shape)\n",
    "print('Shape of y_test: ', y_test.shape)"
   ]
  },
  {
   "cell_type": "code",
   "execution_count": 5,
   "id": "6e052b2f",
   "metadata": {},
   "outputs": [
    {
     "data": {
      "image/png": "[encoded data removed]",
      "text/plain": [
       "<Figure size 432x288 with 1 Axes>"
      ]
     },
     "metadata": {
      "needs_background": "light"
     },
     "output_type": "display_data"
    },
    {
     "data": {
      "text/plain": [
       "3"
      ]
     },
     "execution_count": 5,
     "metadata": {},
     "output_type": "execute_result"
    }
   ],
   "source": [
    "plt.imshow(X_train[12])\n",
    "plt.show()\n",
    "y_train[12]"
   ]
  },
  {
   "cell_type": "code",
   "execution_count": 6,
   "id": "03020a93",
   "metadata": {},
   "outputs": [],
   "source": [
    "class Network:\n",
    "    \n",
    "    # initialization of neural network\n",
    "    def __init__(self, layers, alpha, epochs):\n",
    "        self.layers = layers\n",
    "        self.alpha = alpha\n",
    "        self.epochs = epochs\n",
    "        \n",
    "        input_layer = layers[0]\n",
    "        hidden_layer1 = layers[1]\n",
    "        hidden_layer2 = layers[2]\n",
    "        output_layer = layers[3]\n",
    "        \n",
    "        self.params = {\n",
    "            'w1':np.random.randn(hidden_layer1, input_layer) * np.sqrt(1./hidden_layer1),\n",
    "            'w2':np.random.randn(hidden_layer2, hidden_layer1) * np.sqrt(1./hidden_layer2),\n",
    "            'w3':np.random.randn(output_layer, hidden_layer2) * np.sqrt(1./output_layer)\n",
    "        }\n",
    "    \n",
    "    # implementation of forward-propagation algorithm\n",
    "    def forward_propagation(self, x_train):\n",
    "        #params = self.params\n",
    "        \n",
    "        self.params['a0'] = x_train\n",
    "        \n",
    "        # First Hideen Layer\n",
    "        self.params['z1'] = np.dot(self.params['w1'], x_train)\n",
    "        self.params['a1'] = self.sigmoid(self.params['z1'])\n",
    "        \n",
    "        # Second Hidden Layer\n",
    "        self.params['z2'] = np.dot(self.params['w2'], self.params['a1'])\n",
    "        self.params['a2'] = self.sigmoid(self.params['z2'])\n",
    "        \n",
    "        # Output Layer\n",
    "        self.params['z3'] = np.dot(self.params['w3'], self.params['a2'])\n",
    "        self.params['a3'] = self.softmax(self.params['z3'])\n",
    "        \n",
    "        return self.params['a3']\n",
    "    \n",
    "    # implementation of back-propagation algorithm\n",
    "    def back_propagation(self, y_train, y_hat):\n",
    "        #params = self.params\n",
    "        \n",
    "        # Change in W3 matrix\n",
    "        error = (2 / y_hat.shape[0]) * (y_hat - y_train) * self.softmax(self.params['z3'], derivative=True)\n",
    "        delta_w = np.outer(error, self.params['a2'])\n",
    "        self.params['w3'] = self.params['w3'] - (self.alpha*delta_w) \n",
    "        \n",
    "        # Change in W2 matrix\n",
    "        error = np.dot(self.params['w3'].T, error) * self.sigmoid(self.params['z2'], derivative=True)\n",
    "        delta_w = np.outer(error, self.params['a1'])\n",
    "        self.params['w2'] = self.params['w2'] - (self.alpha*delta_w)\n",
    "        \n",
    "        # Change in W1 matrix\n",
    "        error = np.dot(self.params['w2'].T, error) * self.sigmoid(self.params['z1'], derivative=True)\n",
    "        delta_w = np.outer(error, self.params['a0'])\n",
    "        self.params['w1'] = self.params['w1'] - (self.alpha*delta_w)\n",
    "    \n",
    "    # sigmoid function\n",
    "    def sigmoid(self, z, derivative = False):\n",
    "        if derivative:\n",
    "            return np.exp(z)/((1 + np.exp(z))**2)\n",
    "        \n",
    "        return 1/(1 + np.exp(-z))\n",
    "        \n",
    "    # softmax function\n",
    "    def softmax(self, z, derivative = False):\n",
    "        exp = np.exp(z - z.max())\n",
    "        if derivative:\n",
    "            return (exp/np.sum(exp, axis=0)) * (1 - (exp/np.sum(exp, axis=0)))\n",
    "        \n",
    "        return exp/np.sum(exp, axis=0)\n",
    "    \n",
    "    # training the network (1 epoch)\n",
    "    def train_util(self, x_train, y_train):\n",
    "        for x,y in zip(x_train,y_train):\n",
    "            x = np.asfarray(x.reshape((784,1)))\n",
    "            x = ((x / 255.0) * 0.99) + 0.01\n",
    "            output = np.zeros(10, dtype=int) + 0.01\n",
    "            output[int(y)] = 0.99\n",
    "            output = output.reshape((10,1))\n",
    "            prediction = self.forward_propagation(x)\n",
    "            self.back_propagation(output, prediction)\n",
    "            \n",
    "    def train(self, x_train, y_train):\n",
    "        for i in range(self.epochs):\n",
    "            start = time.time()\n",
    "            self.train_util(x_train, y_train)\n",
    "            acc = self.accuracy(x_train, y_train)\n",
    "            print('Epoch->',i,'---------------','time->',time.time()-start,'---------------','Accuracy->',round(acc*100, 2),'%')\n",
    "            \n",
    "    # computing accuracy\n",
    "    def accuracy(self, X, Y):\n",
    "        pred = []\n",
    "        for x,y in zip(X,Y):\n",
    "            x = np.asfarray(x.reshape((784,1)))\n",
    "            x = ((x / 255.0) * 0.99) + 0.01\n",
    "            output = np.zeros(10, dtype=int) + 0.01\n",
    "            output[int(y)] = 0.99\n",
    "            output = output.reshape((10,1))\n",
    "            prediction = self.forward_propagation(x)\n",
    "            pred.append(np.argmax(output) == np.argmax(prediction))\n",
    "        return np.mean(pred)"
   ]
  },
  {
   "cell_type": "code",
   "execution_count": 7,
   "id": "164fc991",
   "metadata": {},
   "outputs": [],
   "source": [
    "dnn = Network(layers=[784,128,64,10], alpha=0.001, epochs=100)"
   ]
  },
  {
   "cell_type": "code",
   "execution_count": 8,
   "id": "1aa67d6d",
   "metadata": {},
   "outputs": [
    {
     "name": "stdout",
     "output_type": "stream",
     "text": [
      "Epoch-> 0 --------------- time-> 50.68442630767822 --------------- Accuracy-> 25.26 %\n",
      "Epoch-> 1 --------------- time-> 52.871421337127686 --------------- Accuracy-> 35.46 %\n",
      "Epoch-> 2 --------------- time-> 52.55912780761719 --------------- Accuracy-> 45.78 %\n",
      "Epoch-> 3 --------------- time-> 53.39237976074219 --------------- Accuracy-> 48.2 %\n",
      "Epoch-> 4 --------------- time-> 54.80769324302673 --------------- Accuracy-> 49.86 %\n",
      "Epoch-> 5 --------------- time-> 55.155203342437744 --------------- Accuracy-> 52.13 %\n",
      "Epoch-> 6 --------------- time-> 53.87336850166321 --------------- Accuracy-> 54.15 %\n",
      "Epoch-> 7 --------------- time-> 60.75947618484497 --------------- Accuracy-> 55.94 %\n",
      "Epoch-> 8 --------------- time-> 56.29981064796448 --------------- Accuracy-> 57.65 %\n",
      "Epoch-> 9 --------------- time-> 55.97897958755493 --------------- Accuracy-> 59.42 %\n",
      "Epoch-> 10 --------------- time-> 65.04689621925354 --------------- Accuracy-> 60.98 %\n",
      "Epoch-> 11 --------------- time-> 73.75983881950378 --------------- Accuracy-> 62.21 %\n",
      "Epoch-> 12 --------------- time-> 70.24581861495972 --------------- Accuracy-> 63.49 %\n",
      "Epoch-> 13 --------------- time-> 64.81527805328369 --------------- Accuracy-> 64.56 %\n",
      "Epoch-> 14 --------------- time-> 68.89912605285645 --------------- Accuracy-> 65.47 %\n",
      "Epoch-> 15 --------------- time-> 66.34513640403748 --------------- Accuracy-> 66.39 %\n",
      "Epoch-> 16 --------------- time-> 67.1849102973938 --------------- Accuracy-> 67.23 %\n",
      "Epoch-> 17 --------------- time-> 64.92103552818298 --------------- Accuracy-> 67.94 %\n",
      "Epoch-> 18 --------------- time-> 72.94543743133545 --------------- Accuracy-> 68.59 %\n",
      "Epoch-> 19 --------------- time-> 76.17830777168274 --------------- Accuracy-> 69.19 %\n",
      "Epoch-> 20 --------------- time-> 62.87517166137695 --------------- Accuracy-> 69.63 %\n",
      "Epoch-> 21 --------------- time-> 75.59608340263367 --------------- Accuracy-> 70.01 %\n",
      "Epoch-> 22 --------------- time-> 64.47812557220459 --------------- Accuracy-> 70.35 %\n",
      "Epoch-> 23 --------------- time-> 70.83817076683044 --------------- Accuracy-> 70.66 %\n",
      "Epoch-> 24 --------------- time-> 69.64521837234497 --------------- Accuracy-> 70.96 %\n",
      "Epoch-> 25 --------------- time-> 68.88339710235596 --------------- Accuracy-> 71.28 %\n",
      "Epoch-> 26 --------------- time-> 62.934489488601685 --------------- Accuracy-> 71.54 %\n",
      "Epoch-> 27 --------------- time-> 69.83705186843872 --------------- Accuracy-> 71.72 %\n",
      "Epoch-> 28 --------------- time-> 78.08193230628967 --------------- Accuracy-> 71.96 %\n",
      "Epoch-> 29 --------------- time-> 76.95172119140625 --------------- Accuracy-> 72.17 %\n",
      "Epoch-> 30 --------------- time-> 73.94215297698975 --------------- Accuracy-> 72.37 %\n",
      "Epoch-> 31 --------------- time-> 73.44501805305481 --------------- Accuracy-> 72.55 %\n",
      "Epoch-> 32 --------------- time-> 54.149614095687866 --------------- Accuracy-> 72.71 %\n",
      "Epoch-> 33 --------------- time-> 54.9999885559082 --------------- Accuracy-> 72.84 %\n",
      "Epoch-> 34 --------------- time-> 53.525084018707275 --------------- Accuracy-> 73.53 %\n",
      "Epoch-> 35 --------------- time-> 56.17596793174744 --------------- Accuracy-> 75.19 %\n",
      "Epoch-> 36 --------------- time-> 56.01021599769592 --------------- Accuracy-> 76.32 %\n",
      "Epoch-> 37 --------------- time-> 55.81275248527527 --------------- Accuracy-> 76.94 %\n",
      "Epoch-> 38 --------------- time-> 53.10722327232361 --------------- Accuracy-> 77.27 %\n",
      "Epoch-> 39 --------------- time-> 49.52133584022522 --------------- Accuracy-> 77.53 %\n",
      "Epoch-> 40 --------------- time-> 56.84884858131409 --------------- Accuracy-> 77.7 %\n",
      "Epoch-> 41 --------------- time-> 58.633217334747314 --------------- Accuracy-> 77.88 %\n",
      "Epoch-> 42 --------------- time-> 54.395057916641235 --------------- Accuracy-> 78.07 %\n",
      "Epoch-> 43 --------------- time-> 53.90725755691528 --------------- Accuracy-> 78.25 %\n",
      "Epoch-> 44 --------------- time-> 53.59207272529602 --------------- Accuracy-> 78.4 %\n",
      "Epoch-> 45 --------------- time-> 55.33084774017334 --------------- Accuracy-> 78.55 %\n",
      "Epoch-> 46 --------------- time-> 58.65225100517273 --------------- Accuracy-> 78.7 %\n",
      "Epoch-> 47 --------------- time-> 59.873164892196655 --------------- Accuracy-> 78.86 %\n",
      "Epoch-> 48 --------------- time-> 53.926551818847656 --------------- Accuracy-> 79.02 %\n",
      "Epoch-> 49 --------------- time-> 52.928932905197144 --------------- Accuracy-> 79.17 %\n",
      "Epoch-> 50 --------------- time-> 52.88870453834534 --------------- Accuracy-> 79.32 %\n",
      "Epoch-> 51 --------------- time-> 52.81312537193298 --------------- Accuracy-> 79.48 %\n",
      "Epoch-> 52 --------------- time-> 52.50300979614258 --------------- Accuracy-> 79.62 %\n",
      "Epoch-> 53 --------------- time-> 52.70309400558472 --------------- Accuracy-> 79.76 %\n",
      "Epoch-> 54 --------------- time-> 53.01295185089111 --------------- Accuracy-> 79.91 %\n",
      "Epoch-> 55 --------------- time-> 62.3374981880188 --------------- Accuracy-> 80.04 %\n",
      "Epoch-> 56 --------------- time-> 62.915974617004395 --------------- Accuracy-> 80.16 %\n",
      "Epoch-> 57 --------------- time-> 61.711791038513184 --------------- Accuracy-> 83.14 %\n",
      "Epoch-> 58 --------------- time-> 59.587085485458374 --------------- Accuracy-> 85.4 %\n",
      "Epoch-> 59 --------------- time-> 59.629069805145264 --------------- Accuracy-> 85.9 %\n",
      "Epoch-> 60 --------------- time-> 61.0923125743866 --------------- Accuracy-> 86.1 %\n",
      "Epoch-> 61 --------------- time-> 60.774099349975586 --------------- Accuracy-> 86.26 %\n",
      "Epoch-> 62 --------------- time-> 60.233375787734985 --------------- Accuracy-> 86.44 %\n",
      "Epoch-> 63 --------------- time-> 60.57325577735901 --------------- Accuracy-> 86.63 %\n",
      "Epoch-> 64 --------------- time-> 58.52518439292908 --------------- Accuracy-> 86.8 %\n",
      "Epoch-> 65 --------------- time-> 59.99709439277649 --------------- Accuracy-> 86.94 %\n",
      "Epoch-> 66 --------------- time-> 56.977107763290405 --------------- Accuracy-> 87.05 %\n",
      "Epoch-> 67 --------------- time-> 59.16101551055908 --------------- Accuracy-> 87.14 %\n",
      "Epoch-> 68 --------------- time-> 61.74495792388916 --------------- Accuracy-> 87.24 %\n",
      "Epoch-> 69 --------------- time-> 52.3407347202301 --------------- Accuracy-> 87.35 %\n",
      "Epoch-> 70 --------------- time-> 49.114471673965454 --------------- Accuracy-> 87.46 %\n",
      "Epoch-> 71 --------------- time-> 49.154168367385864 --------------- Accuracy-> 87.56 %\n",
      "Epoch-> 72 --------------- time-> 51.33553409576416 --------------- Accuracy-> 87.6 %\n",
      "Epoch-> 73 --------------- time-> 50.55894660949707 --------------- Accuracy-> 87.66 %\n",
      "Epoch-> 74 --------------- time-> 51.334258794784546 --------------- Accuracy-> 87.72 %\n",
      "Epoch-> 75 --------------- time-> 49.08724498748779 --------------- Accuracy-> 87.76 %\n",
      "Epoch-> 76 --------------- time-> 49.06844472885132 --------------- Accuracy-> 87.79 %\n",
      "Epoch-> 77 --------------- time-> 48.996947050094604 --------------- Accuracy-> 87.84 %\n",
      "Epoch-> 78 --------------- time-> 49.025148153305054 --------------- Accuracy-> 87.88 %\n",
      "Epoch-> 79 --------------- time-> 49.13937735557556 --------------- Accuracy-> 87.91 %\n",
      "Epoch-> 80 --------------- time-> 50.345834255218506 --------------- Accuracy-> 87.94 %\n",
      "Epoch-> 81 --------------- time-> 52.68053984642029 --------------- Accuracy-> 87.93 %\n",
      "Epoch-> 82 --------------- time-> 52.200926303863525 --------------- Accuracy-> 87.91 %\n",
      "Epoch-> 83 --------------- time-> 52.00241947174072 --------------- Accuracy-> 87.95 %\n",
      "Epoch-> 84 --------------- time-> 60.19267702102661 --------------- Accuracy-> 87.96 %\n",
      "Epoch-> 85 --------------- time-> 66.13114666938782 --------------- Accuracy-> 87.98 %\n",
      "Epoch-> 86 --------------- time-> 53.827393531799316 --------------- Accuracy-> 87.97 %\n",
      "Epoch-> 87 --------------- time-> 49.82625961303711 --------------- Accuracy-> 87.98 %\n",
      "Epoch-> 88 --------------- time-> 48.81477737426758 --------------- Accuracy-> 87.99 %\n",
      "Epoch-> 89 --------------- time-> 54.457520961761475 --------------- Accuracy-> 88.02 %\n",
      "Epoch-> 90 --------------- time-> 51.480061769485474 --------------- Accuracy-> 88.03 %\n",
      "Epoch-> 91 --------------- time-> 50.09738612174988 --------------- Accuracy-> 88.03 %\n",
      "Epoch-> 92 --------------- time-> 50.98826313018799 --------------- Accuracy-> 88.01 %\n",
      "Epoch-> 93 --------------- time-> 50.00666618347168 --------------- Accuracy-> 87.97 %\n",
      "Epoch-> 94 --------------- time-> 51.06103825569153 --------------- Accuracy-> 87.97 %\n"
     ]
    },
    {
     "name": "stdout",
     "output_type": "stream",
     "text": [
      "Epoch-> 95 --------------- time-> 50.82987833023071 --------------- Accuracy-> 87.96 %\n",
      "Epoch-> 96 --------------- time-> 50.07850193977356 --------------- Accuracy-> 87.92 %\n",
      "Epoch-> 97 --------------- time-> 51.53713631629944 --------------- Accuracy-> 87.9 %\n",
      "Epoch-> 98 --------------- time-> 50.12014865875244 --------------- Accuracy-> 87.83 %\n",
      "Epoch-> 99 --------------- time-> 50.07580304145813 --------------- Accuracy-> 87.76 %\n"
     ]
    }
   ],
   "source": [
    "dnn.train(X_train, y_train)"
   ]
  },
  {
   "cell_type": "code",
   "execution_count": 27,
   "id": "1c5ad83f",
   "metadata": {},
   "outputs": [
    {
     "name": "stdout",
     "output_type": "stream",
     "text": [
      "Test accuracy-> 88.35%\n"
     ]
    }
   ],
   "source": [
    "print(f\"Test accuracy-> {round(dnn.accuracy(X_test, y_test)*100,2)}%\")"
   ]
  },
  {
   "cell_type": "code",
   "execution_count": 28,
   "id": "836a4ec7",
   "metadata": {},
   "outputs": [],
   "source": [
    "y_pred = []\n",
    "for x,y in zip(X_test,y_test):\n",
    "    x = np.asfarray(x.reshape((784,1)))\n",
    "    x = ((x / 255.0) * 0.99) + 0.01\n",
    "    output = np.zeros(10, dtype=int) + 0.01\n",
    "    output[int(y)] = 0.99\n",
    "    output = output.reshape((10,1))\n",
    "    prediction = dnn.forward_propagation(x)\n",
    "    y_pred.append(prediction)\n",
    "y_pred = np.array(y_pred)"
   ]
  },
  {
   "cell_type": "code",
   "execution_count": 29,
   "id": "5c9c9386",
   "metadata": {},
   "outputs": [
    {
     "data": {
      "text/plain": [
       "(10000, 10, 1)"
      ]
     },
     "execution_count": 29,
     "metadata": {},
     "output_type": "execute_result"
    }
   ],
   "source": [
    "y_pred.shape"
   ]
  },
  {
   "cell_type": "code",
   "execution_count": 30,
   "id": "8ffb2347",
   "metadata": {},
   "outputs": [
    {
     "data": {
      "text/plain": [
       "array([[1.78150235e-04],\n",
       "       [3.08896969e-03],\n",
       "       [1.75910071e-03],\n",
       "       [7.36917002e-03],\n",
       "       [5.25160959e-03],\n",
       "       [2.15992300e-03],\n",
       "       [1.16870718e-04],\n",
       "       [9.44502484e-01],\n",
       "       [2.37968756e-03],\n",
       "       [3.31940350e-02]])"
      ]
     },
     "execution_count": 30,
     "metadata": {},
     "output_type": "execute_result"
    }
   ],
   "source": [
    "y_pred[0]"
   ]
  },
  {
   "cell_type": "code",
   "execution_count": 31,
   "id": "6605e5c4",
   "metadata": {},
   "outputs": [],
   "source": [
    "y_pred = np.reshape(y_pred, [y_pred.shape[0], y_pred.shape[1]])"
   ]
  },
  {
   "cell_type": "code",
   "execution_count": 32,
   "id": "f7782e3b",
   "metadata": {},
   "outputs": [
    {
     "data": {
      "text/plain": [
       "array([1.78150235e-04, 3.08896969e-03, 1.75910071e-03, 7.36917002e-03,\n",
       "       5.25160959e-03, 2.15992300e-03, 1.16870718e-04, 9.44502484e-01,\n",
       "       2.37968756e-03, 3.31940350e-02])"
      ]
     },
     "execution_count": 32,
     "metadata": {},
     "output_type": "execute_result"
    }
   ],
   "source": [
    "y_pred[0]"
   ]
  },
  {
   "cell_type": "code",
   "execution_count": 33,
   "id": "c0cc44dc",
   "metadata": {},
   "outputs": [
    {
     "data": {
      "text/plain": [
       "7"
      ]
     },
     "execution_count": 33,
     "metadata": {},
     "output_type": "execute_result"
    }
   ],
   "source": [
    "y_pred = np.argmax(y_pred, axis=1)\n",
    "y_pred[0]"
   ]
  },
  {
   "cell_type": "code",
   "execution_count": 42,
   "id": "44b29598",
   "metadata": {},
   "outputs": [
    {
     "data": {
      "text/plain": [
       "Text(69.0, 0.5, 'Actual')"
      ]
     },
     "execution_count": 42,
     "metadata": {},
     "output_type": "execute_result"
    },
    {
     "data": {
      "image/png": "[encoded data removed]",
      "text/plain": [
       "<Figure size 720x576 with 2 Axes>"
      ]
     },
     "metadata": {
      "needs_background": "light"
     },
     "output_type": "display_data"
    }
   ],
   "source": [
    "from sklearn.metrics import confusion_matrix\n",
    "mat = confusion_matrix(y_test, y_pred, normalize='pred')\n",
    "fig = plt.figure(figsize=(10,8))\n",
    "sns.heatmap(mat, annot=True, cmap='viridis')\n",
    "plt.xlabel('Prediction')\n",
    "plt.ylabel('Actual')"
   ]
  },
  {
   "cell_type": "code",
   "execution_count": 51,
   "id": "1053b21e",
   "metadata": {},
   "outputs": [],
   "source": [
    "import pickle\n",
    "pickle.dump(dnn, open('custom_model.pkl', 'wb'))"
   ]
  },
  {
   "cell_type": "code",
   "execution_count": 56,
   "id": "2c925c84",
   "metadata": {},
   "outputs": [],
   "source": [
    "model = pickle.load(open('custom_model.pkl', 'rb'))"
   ]
  },
  {
   "cell_type": "code",
   "execution_count": 60,
   "id": "4a026b2f",
   "metadata": {},
   "outputs": [
    {
     "data": {
      "text/plain": [
       "87.76"
      ]
     },
     "execution_count": 60,
     "metadata": {},
     "output_type": "execute_result"
    }
   ],
   "source": [
    "round(model.accuracy(X_train, y_train)*100,2)"
   ]
  },
  {
   "cell_type": "code",
   "execution_count": 61,
   "id": "f44ec65b",
   "metadata": {},
   "outputs": [
    {
     "data": {
      "text/plain": [
       "88.35"
      ]
     },
     "execution_count": 61,
     "metadata": {},
     "output_type": "execute_result"
    }
   ],
   "source": [
    "round(model.accuracy(X_test, y_test)*100,2)"
   ]
  },
  {
   "cell_type": "code",
   "execution_count": null,
   "id": "5850782f",
   "metadata": {},
   "outputs": [],
   "source": []
  }
 ],
 "metadata": {
  "kernelspec": {
   "display_name": "Python 3 (ipykernel)",
   "language": "python",
   "name": "python3"
  },
  "language_info": {
   "codemirror_mode": {
    "name": "ipython",
    "version": 3
   },
   "file_extension": ".py",
   "mimetype": "text/x-python",
   "name": "python",
   "nbconvert_exporter": "python",
   "pygments_lexer": "ipython3",
   "version": "3.9.1"
  }
 },
 "nbformat": 4,
 "nbformat_minor": 5
}
